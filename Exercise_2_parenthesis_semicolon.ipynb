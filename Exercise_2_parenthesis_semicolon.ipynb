{
  "nbformat": 4,
  "nbformat_minor": 0,
  "metadata": {
    "colab": {
      "name": "Exercise 2- parenthesis/semicolon",
      "provenance": [],
      "authorship_tag": "ABX9TyMx//UXFSQFnjzKP+ftIVVS",
      "include_colab_link": true
    },
    "kernelspec": {
      "name": "python3",
      "display_name": "Python 3"
    },
    "language_info": {
      "name": "python"
    }
  },
  "cells": [
    {
      "cell_type": "markdown",
      "metadata": {
        "id": "view-in-github",
        "colab_type": "text"
      },
      "source": [
        "<a href=\"https://colab.research.google.com/github/quintoin12/quintoin/blob/main/Exercise_2_parenthesis_semicolon.ipynb\" target=\"_parent\"><img src=\"https://colab.research.google.com/assets/colab-badge.svg\" alt=\"Open In Colab\"/></a>"
      ]
    },
    {
      "cell_type": "code",
      "execution_count": 1,
      "metadata": {
        "colab": {
          "base_uri": "https://localhost:8080/"
        },
        "id": "gNb27fGfLElL",
        "outputId": "e57bd923-3255-4e75-dff9-13fdd306d464"
      },
      "outputs": [
        {
          "output_type": "stream",
          "name": "stdout",
          "text": [
            "Roses are red, violets are blue\n",
            "Ten is greater than seven\n",
            "Sixteen is less than forty-two!\n",
            "A long time ago in a galaxy far, far away...\n"
          ]
        }
      ],
      "source": [
        "#printRoses are red, violets are blue\n",
        "\n",
        "\n",
        "#if 10>7:\n",
        "    #print (\"Ten is greater than seven\")\n",
        "#if 16<42:\n",
        "    #print (\"Sixteen is less than forty-two!\")\n",
        "\n",
        " #print (\"A long time ago in a galaxy far, far away...\");     \n",
        "\n",
        "\n",
        "print(\"Roses are red, violets are blue\")\n",
        "if (10>7):\n",
        "    print (\"Ten is greater than seven\")\n",
        "if (16<42):\n",
        "    print (\"Sixteen is less than forty-two!\")\n",
        "\n",
        "print (\"A long time ago in a galaxy far, far away...\")   "
      ]
    }
  ]
}