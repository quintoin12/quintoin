{
  "nbformat": 4,
  "nbformat_minor": 0,
  "metadata": {
    "colab": {
      "name": "\"Exercise 1\"",
      "provenance": [],
      "authorship_tag": "ABX9TyNoIVkqMU/N1ND66Fpv5D6r",
      "include_colab_link": true
    },
    "kernelspec": {
      "name": "python3",
      "display_name": "Python 3"
    },
    "language_info": {
      "name": "python"
    }
  },
  "cells": [
    {
      "cell_type": "markdown",
      "metadata": {
        "id": "view-in-github",
        "colab_type": "text"
      },
      "source": [
        "<a href=\"https://colab.research.google.com/github/quintoin12/quintoin/blob/main/%22Exercise_1%22.ipynb\" target=\"_parent\"><img src=\"https://colab.research.google.com/assets/colab-badge.svg\" alt=\"Open In Colab\"/></a>"
      ]
    },
    {
      "cell_type": "code",
      "execution_count": 6,
      "metadata": {
        "colab": {
          "base_uri": "https://localhost:8080/"
        },
        "id": "VPFmd4BYceW1",
        "outputId": "b41d562e-7043-4bf8-a7a3-e03f087e6fa4"
      },
      "outputs": [
        {
          "output_type": "stream",
          "name": "stdout",
          "text": [
            "There was once a pirate who loved adventure.\n",
            "Her name was Jing.\n",
            "Jing would take her ship to unknown places.\n",
            "She brings home a lot of gold.\n",
            "Then she goes home to her pet parrot Ralf.\n"
          ]
        }
      ],
      "source": [
        "character_job=\"pirate\"\n",
        "character_ride=\"ship\"\n",
        "character_souvenir=\"gold\"\n",
        "character_pet= \"parrot\"\n",
        "character_name= \"Jing\"\n",
        "pet_name= \"Ralf\"\n",
        "\n",
        "print(\"There was once a \"+character_job+ \" who loved adventure\"+ \".\")\n",
        "print(\"Her name was \"+ character_name+\".\")\n",
        "print(character_name+ \" would take her \"+character_ride+ \" to unknown places\"+\".\")\n",
        "print(\"She brings home a lot of \"+ character_souvenir+\".\")\n",
        "print(\"Then she goes home to her pet \"+ character_pet+\" \"+ pet_name+ \".\")\n"
      ]
    }
  ]
}