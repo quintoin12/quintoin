{
  "nbformat": 4,
  "nbformat_minor": 0,
  "metadata": {
    "colab": {
      "name": "\"\"variables\"+\"declaring variables\"+\"using variables to change data\"\"",
      "provenance": [],
      "authorship_tag": "ABX9TyPgKO2RCaCQWaEo7iNV4VRC",
      "include_colab_link": true
    },
    "kernelspec": {
      "name": "python3",
      "display_name": "Python 3"
    },
    "language_info": {
      "name": "python"
    }
  },
  "cells": [
    {
      "cell_type": "markdown",
      "metadata": {
        "id": "view-in-github",
        "colab_type": "text"
      },
      "source": [
        "<a href=\"https://colab.research.google.com/github/quintoin12/quintoin/blob/main/%22%22variables%22%2B%22declaring_variables%22%2B%22using_variables_to_change_data%22%22.ipynb\" target=\"_parent\"><img src=\"https://colab.research.google.com/assets/colab-badge.svg\" alt=\"Open In Colab\"/></a>"
      ]
    },
    {
      "cell_type": "code",
      "execution_count": 17,
      "metadata": {
        "colab": {
          "base_uri": "https://localhost:8080/"
        },
        "id": "J-q7fG6VWPi9",
        "outputId": "82b56ef4-4e0c-4d13-f1b7-2e3f2c8c2588"
      },
      "outputs": [
        {
          "output_type": "stream",
          "name": "stdout",
          "text": [
            "I like eating mypizza.\n",
            "I like eating my pizza with my jing.\n",
            "I like eating pizza and drinking her dutchmill with my jing.\n"
          ]
        }
      ],
      "source": [
        "favorite_food=\"pizza\"\n",
        "favorite_person=\"jing\"\n",
        "favorite_drink=\"dutchmill\"\n",
        "\n",
        "print(\"I like \"+\"eating my\"+favorite_food +\".\")\n",
        "print(\"I like eating my \"+favorite_food+ \" with my \" +favorite_person +\".\")\n",
        "print(\"I like eating \"+favorite_food +\" and drinking her \"+ favorite_drink +\" with my \"+ favorite_person +\".\")\n"
      ]
    }
  ]
}